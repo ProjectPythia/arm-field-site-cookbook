{
 "cells": [
  {
   "cell_type": "markdown",
   "id": "956ce553",
   "metadata": {},
   "source": [
    "<img src=\"../../images/arm_logo.png\" width=500 alt=\"ARM Logo\"></img>"
   ]
  },
  {
   "cell_type": "markdown",
   "id": "3c82d109-209d-4dac-9b0a-44426c38d1c7",
   "metadata": {},
   "source": [
    "# Introduction to Radar Meteorology with ARM"
   ]
  },
  {
   "cell_type": "markdown",
   "id": "fa7855f7-efa7-4124-b8f3-18b42a432f0b",
   "metadata": {},
   "source": [
    "## Overview\n",
    "   \n",
    "Within this notebook, we will cover:\n",
    "\n",
    "1. General structure of radar data\n",
    "1. Radar Scanning\n",
    "1. Look at various ARM radars\n",
    "1. Do a simple analysis "
   ]
  },
  {
   "cell_type": "markdown",
   "id": "9f939688-2a3e-49e4-88db-56bc478a8a7d",
   "metadata": {},
   "source": [
    "## Prerequisites\n",
    "| Concepts | Importance | Notes |\n",
    "| --- | --- | --- |\n",
    "| [Intro to Cartopy](https://foundations.projectpythia.org/core/cartopy/cartopy.html) | Helpful | Basic features |\n",
    "| [Matplotlib Basics](https://foundations.projectpythia.org/core/matplotlib/matplotlib-basics.html) | Helpful | Basic plotting |\n",
    "| [NumPy Basics](https://foundations.projectpythia.org/core/numpy/numpy-basics.html) | Helpful | Basic arrays |\n",
    "\n",
    "- **Time to learn**: 45 minutes\n",
    "---"
   ]
  },
  {
   "cell_type": "code",
   "execution_count": 1,
   "id": "940baf6a-e3b5-45e1-ac5f-3ad8b8b3747d",
   "metadata": {},
   "outputs": [
    {
     "name": "stdout",
     "output_type": "stream",
     "text": [
      "\n",
      "## You are using the Python ARM Radar Toolkit (Py-ART), an open source\n",
      "## library for working with weather radar data. Py-ART is partly\n",
      "## supported by the U.S. Department of Energy as part of the Atmospheric\n",
      "## Radiation Measurement (ARM) Climate Research Facility, an Office of\n",
      "## Science user facility.\n",
      "##\n",
      "## If you use this software to prepare a publication, please cite:\n",
      "##\n",
      "##     JJ Helmus and SM Collis, JORS 2016, doi: 10.5334/jors.119\n",
      "\n"
     ]
    }
   ],
   "source": [
    "import os\n",
    "import warnings\n",
    "\n",
    "import cartopy.crs as ccrs\n",
    "import matplotlib.pyplot as plt\n",
    "\n",
    "import matplotlib.pyplot as plt\n",
    "\n",
    "import pyart\n",
    "from pyart.testing import get_test_data\n",
    "import xradar as xd\n",
    "import numpy as np\n",
    "\n",
    "warnings.filterwarnings(\"ignore\")"
   ]
  },
  {
   "cell_type": "markdown",
   "id": "fe29a0c6-b893-4104-b96d-01b4be809f48",
   "metadata": {},
   "source": [
    "We will use Py-ART to investigate data. This is not a Py-ART tutorial. Also this notebook is limited to moment data and will not cover lower level data such as doppler spectra. "
   ]
  },
  {
   "cell_type": "markdown",
   "id": "a0cb2d6d-eee7-428a-ae94-f27440f4b172",
   "metadata": {},
   "source": [
    "## ARM Radars"
   ]
  },
  {
   "cell_type": "markdown",
   "id": "6c5ca420-f2f0-4b78-bf92-c4ea0d39223a",
   "metadata": {},
   "source": [
    "ARM's main radars can be broken down into two categories: Scanning and zenith pointing. ARM operates radars at four requency bands: W, Ka, X and C band. ARM denotes radars as either cloud or precipitation sensing. W and Ka are only denoted as cloud sensing, X is both and C is only precipitation sensing. The radars are the Marine W-Band ARM Cloud Radar (M-WACR), Ka band Zenith Radar (Ka-ZR), Ka band ARM Scanning Cloud Radar (Ka-SACR), X band Scanning ARM Radar (X-SACR), X band Scanning ARM Precipition Radar (X-SAPR) and C band Scanning ARM Precipitation Radar (C-SAPR). The notation pertain more to the operation and suitability of the radar (eg there is nothing stopping a user using KAZR to study Precipitation). \n"
   ]
  },
  {
   "cell_type": "markdown",
   "id": "aa9d9a9d-4e68-4758-aea6-be8354f1676c",
   "metadata": {},
   "source": [
    "![alt text](radars.jpg \"Title\")\n",
    "\n"
   ]
  },
  {
   "cell_type": "markdown",
   "id": "3d442bdf-522a-4516-9953-f0d40d7fc544",
   "metadata": {},
   "source": [
    "BNF has a C-SAPR, X-SACR, Ka-SACR and a KaZR. Why the different wavelengths? it all comes down to sensitivity, backscatter cross section and if the scattering is in the Reighley regieme where the size of the drops are much smaller than the wavelenth. "
   ]
  },
  {
   "cell_type": "markdown",
   "id": "50740f10-8835-48d4-9b1f-ddfeadd6bf54",
   "metadata": {},
   "source": [
    "![alt text](rcs.jpg \"Title\")\n",
    "\n"
   ]
  },
  {
   "cell_type": "markdown",
   "id": "780cf395-d720-4b0a-856b-2029d49b3f9b",
   "metadata": {},
   "source": [
    "The sensitivity gains come from the beam with can be approximated as $\\theta\\approx 1.22 \\frac{\\lambda}{D}\\quad(\\text{considering that}\\,\\sin\\theta\\approx\\theta)$. Bigger antenna smaller angle. Shorter wavelength smaller angle. And a smaller angle means you can squeeze more power into a volume."
   ]
  },
  {
   "cell_type": "markdown",
   "id": "29c97396-c328-4a06-8f78-b637c7bef604",
   "metadata": {},
   "source": [
    "The power recieved by a radar can be written as: \n",
    "\n",
    "$P_r = \\frac{\\pi^3 c}{1024 \\ln(2)} \\cdot \\frac{P_t G^2 \\theta^2 h |\\kappa|^2 Z}{\\lambda^2 r^2}$\n",
    "\n",
    "This can be broken down to components intrinsic to the radar and the medium:\n",
    "\n",
    "$P_r = \\underbrace{\\frac{P_t G^2 \\lambda^2 c \\tau}{(4\\pi)^3}}_{\\text{Radar}} \\underbrace{\\frac{\\pi^5 |K|^2}{\\lambda^4} \\frac{1}{R^2} \\sum D_i^6}_{\\text{Hydrometeors}}$\n",
    "\n",
    "The last component, the sum over all distribited scatters is, as described in the previous talk one of the basic measures from a radar is reflectivity factor:\n",
    "\n",
    "$Z = \\int_{0}^{Dmax} N D^6\\mathrm{d}D $\n",
    "\n",
    "As long as $D < \\lambda$ reflectivity factor is wavelength invariant.  \n"
   ]
  },
  {
   "cell_type": "markdown",
   "id": "56b031fa-13e7-4eba-b5ae-a5141e8a9707",
   "metadata": {},
   "source": [
    "## Lets dig into some data to give some examples:"
   ]
  },
  {
   "cell_type": "code",
   "execution_count": 2,
   "id": "10ffbb3f-833e-4bd8-afe6-9c6a95dbeda9",
   "metadata": {},
   "outputs": [],
   "source": [
    "kazr = pyart.io.read('bnfkazr2cfrgeM1.a1.20250422.040000.nc')"
   ]
  },
  {
   "cell_type": "code",
   "execution_count": 3,
   "id": "75fa3845-73fd-4cdc-8fc6-e39990f219c0",
   "metadata": {},
   "outputs": [
    {
     "ename": "NameError",
     "evalue": "name 'csapr' is not defined",
     "output_type": "error",
     "traceback": [
      "\u001b[31m---------------------------------------------------------------------------\u001b[39m",
      "\u001b[31mNameError\u001b[39m                                 Traceback (most recent call last)",
      "\u001b[36mCell\u001b[39m\u001b[36m \u001b[39m\u001b[32mIn[3]\u001b[39m\u001b[32m, line 1\u001b[39m\n\u001b[32m----> \u001b[39m\u001b[32m1\u001b[39m \u001b[43mcsapr\u001b[49m.metadata[\u001b[33m'\u001b[39m\u001b[33mdoi\u001b[39m\u001b[33m'\u001b[39m]\n",
      "\u001b[31mNameError\u001b[39m: name 'csapr' is not defined"
     ]
    }
   ],
   "source": [
    "csapr.metadata['doi']"
   ]
  },
  {
   "cell_type": "markdown",
   "id": "051e1a09-9cd4-4c4f-9d42-0b397cb85065",
   "metadata": {},
   "source": [
    "https://www.osti.gov/dataexplorer/biblio/dataset/1467901-band-scanning-arm-precipitation-radar-generation\n",
    "\n",
    "Bharadwaj, Nitin, Collis, Scott, Hardin, Joseph, Isom, Bradley, Lindenmaier, Iosif, Matthews, Alyssa, Nelson, Danny, Feng, Ya-Chien, Rocque, Marquette, Wendler, Tim, and Castro, Vagner. C-Band Scanning ARM Precipitation Radar, 2nd Generation. United States: N. p., 2021. Web. doi:10.5439/1467901."
   ]
  },
  {
   "cell_type": "code",
   "execution_count": null,
   "id": "98962d8c-e1cd-4c7b-ada8-f91eac9a6206",
   "metadata": {},
   "outputs": [],
   "source": [
    "kazr.info()"
   ]
  },
  {
   "cell_type": "code",
   "execution_count": null,
   "id": "4983d6ef-ff6a-4b8c-b794-947e600071ae",
   "metadata": {},
   "outputs": [],
   "source": [
    "kazr.fields['reflectivity']"
   ]
  },
  {
   "cell_type": "markdown",
   "id": "666374f9-a861-42b9-b60b-c8dd868e4e12",
   "metadata": {},
   "source": [
    "Lets make a plot of the data. Nothing fancy here:"
   ]
  },
  {
   "cell_type": "code",
   "execution_count": null,
   "id": "5d6672d5-44bd-4ef9-b231-871fb3287468",
   "metadata": {},
   "outputs": [],
   "source": [
    "plt.pcolormesh(kazr.fields['reflectivity']['data'])\n",
    "plt.colorbar()"
   ]
  },
  {
   "cell_type": "markdown",
   "id": "62ef50b0-9ca4-4865-8aa3-ef6d425bc605",
   "metadata": {},
   "source": [
    "Lets make it nicer!"
   ]
  },
  {
   "cell_type": "code",
   "execution_count": null,
   "id": "8c8d5b43-3001-4670-97b0-fe46c52d26cc",
   "metadata": {},
   "outputs": [],
   "source": [
    "my_favorite_colormap = pyart.graph.cmweather.cm_colorblind.ChaseSpectral\n",
    "plt.pcolormesh(kazr.fields['reflectivity']['data'].transpose(), cmap=my_favorite_colormap)\n",
    "plt.colorbar()"
   ]
  },
  {
   "cell_type": "markdown",
   "id": "c9d24ad7-2864-463a-ae9e-ef483f90a8f8",
   "metadata": {},
   "source": [
    "Being a vertical pointing radar the geometry is simple, a time height cross section. \n",
    "\n",
    "Lets look at a scanning radar, a Ka band scanning cloud radar. "
   ]
  },
  {
   "cell_type": "code",
   "execution_count": null,
   "id": "8af1c6fd-5fb8-4a9a-bd6f-802167fc6431",
   "metadata": {},
   "outputs": [],
   "source": [
    "kasacr = pyart.io.read('bnfkasacrcfrS4.a1.20250422.040001.nc')"
   ]
  },
  {
   "cell_type": "code",
   "execution_count": null,
   "id": "b655a692-013d-4cca-94cc-7f04dc1294cc",
   "metadata": {},
   "outputs": [],
   "source": [
    "plt.pcolormesh(kasacr.fields['reflectivity']['data'].transpose(), cmap=my_favorite_colormap)\n",
    "plt.colorbar()"
   ]
  },
  {
   "cell_type": "markdown",
   "id": "83de3b1c-a77a-406f-a0de-1ba39856bb74",
   "metadata": {},
   "source": [
    "ok! This is a little more complex! Here the antenna is moving. Lets look at the geometry. "
   ]
  },
  {
   "cell_type": "code",
   "execution_count": null,
   "id": "124d0c3f-f739-4aa1-997b-5cc2bc548244",
   "metadata": {},
   "outputs": [],
   "source": [
    "#Lets look at Azimuth\n",
    "plt.plot(kasacr.azimuth['data'])"
   ]
  },
  {
   "cell_type": "code",
   "execution_count": null,
   "id": "ed7dd6d6-58ae-4711-b016-721e0e28c312",
   "metadata": {},
   "outputs": [],
   "source": [
    "plt.plot(kasacr.elevation['data'])"
   ]
  },
  {
   "cell_type": "code",
   "execution_count": null,
   "id": "c919de5a-58fd-4527-8b72-bde8e7997940",
   "metadata": {},
   "outputs": [],
   "source": [
    "myd = pyart.graph.RadarDisplay(kasacr)\n",
    "myd.plot_ppi('reflectivity', cmap=my_favorite_colormap)"
   ]
  },
  {
   "cell_type": "markdown",
   "id": "bdcd2231-a382-4d57-a6b1-188129635f14",
   "metadata": {},
   "source": [
    "## Now lets look at C-SAPR"
   ]
  },
  {
   "cell_type": "code",
   "execution_count": null,
   "id": "ffd07469-c332-4104-bd5a-76c1a68acd89",
   "metadata": {},
   "outputs": [],
   "source": [
    "csapr = pyart.io.read('bnfcsapr2cfrS3.a1.20250422.040012.nc')"
   ]
  },
  {
   "cell_type": "code",
   "execution_count": null,
   "id": "17bfab1b-33fa-4153-bf6c-5cd2e2d09484",
   "metadata": {},
   "outputs": [],
   "source": [
    "plt.plot(csapr.azimuth['data'])"
   ]
  },
  {
   "cell_type": "code",
   "execution_count": null,
   "id": "de29e750-0e80-4684-9f29-b28c2e28dce0",
   "metadata": {},
   "outputs": [],
   "source": [
    "mydc = pyart.graph.RadarDisplay(csapr)\n",
    "mydc.plot_ppi('reflectivity', cmap=my_favorite_colormap)"
   ]
  },
  {
   "cell_type": "code",
   "execution_count": null,
   "id": "a314ec98-0cd8-4af6-9dac-aa7452907046",
   "metadata": {},
   "outputs": [],
   "source": [
    "alt = kazr.gate_z['data']\n",
    "dbz = kazr.fields['reflectivity']['data']"
   ]
  },
  {
   "cell_type": "code",
   "execution_count": null,
   "id": "2d717bfc-feeb-400c-937c-6a59ffe498cf",
   "metadata": {},
   "outputs": [],
   "source": [
    "freq, height_edges, field_edges = np.histogram2d(\n",
    "        alt.data.flatten(),\n",
    "        dbz.data.flatten(), \n",
    "        bins = [np.linspace(0,15000,99), np.linspace(-60., 20., 79)])\n",
    "      "
   ]
  },
  {
   "cell_type": "code",
   "execution_count": null,
   "id": "5d0e9f22-6ef1-478f-a08c-38780eacca17",
   "metadata": {},
   "outputs": [],
   "source": [
    "X, Y = np.meshgrid(height_edges, field_edges)\n",
    "plt.pcolormesh(Y, X, freq.transpose(), cmap=my_favorite_colormap)\n",
    "plt.colorbar()\n"
   ]
  },
  {
   "cell_type": "code",
   "execution_count": null,
   "id": "0bc313c4-87cd-4461-97e0-9e2f2e27b9c6",
   "metadata": {},
   "outputs": [],
   "source": [
    "alt = csapr.gate_z['data']\n",
    "dbz = csapr.fields['reflectivity']['data']\n",
    "freq, height_edges, field_edges = np.histogram2d(\n",
    "        alt.data.flatten(),\n",
    "        dbz.data.flatten(), \n",
    "        bins = [np.linspace(0,15000,99), np.linspace(-40., 40., 79)])\n",
    "\n",
    "X, Y = np.meshgrid(height_edges, field_edges)\n",
    "plt.pcolormesh(Y, X, freq.transpose(), cmap=my_favorite_colormap)\n",
    "plt.colorbar()\n"
   ]
  },
  {
   "cell_type": "code",
   "execution_count": null,
   "id": "241ee20e-659c-4156-9b4e-c5c64412dce7",
   "metadata": {},
   "outputs": [],
   "source": [
    "alt = kasacr.gate_z['data']\n",
    "dbz = kasacr.fields['reflectivity']['data']\n",
    "freq, height_edges, field_edges = np.histogram2d(\n",
    "        alt.data.flatten(),\n",
    "        dbz.data.flatten(), \n",
    "        bins = [np.linspace(0,2000,39), np.linspace(-40., 40., 39)])\n",
    "\n",
    "X, Y = np.meshgrid(height_edges, field_edges)\n",
    "plt.pcolormesh(Y, X, freq.transpose(), cmap=my_favorite_colormap)\n",
    "plt.colorbar()\n"
   ]
  },
  {
   "cell_type": "markdown",
   "id": "9bc24de1-2945-47d4-a5f6-8637248234cc",
   "metadata": {},
   "source": [
    "Number one rule of reflectivity club: Do math in linear units! \n",
    "\n",
    "As an example lets look at rainfall retrievals. One of the simplest way of doing a rainfall retrieval is to use a simple power law rainfall relation or, \"Z R relation\" of the form $Z=aR^b$. So $R=(Z \\frac{1}{a})^{1/b}$"
   ]
  },
  {
   "cell_type": "code",
   "execution_count": null,
   "id": "b44eb869-127d-4d7a-baae-1b616da47638",
   "metadata": {},
   "outputs": [],
   "source": [
    "a_value=300.0\n",
    "b_value=1.4\n",
    "\n",
    "#Grab reflectivity value\n",
    "refl = csapr.fields['reflectivity'][\"data\"]\n",
    "\n",
    "#Make linear reflectivity\n",
    "linear_refl = 10.0**(refl/10.0)\n",
    "\n",
    "#Retrieve rain rate\n",
    "rr_data = ((1.0/a_value) * linear_refl)**(1.0/b_value)\n",
    "\n",
    "#make a Py-ART field object\n",
    "rain = pyart.config.get_metadata(\"radar_estimated_rain_rate\")\n",
    "rain[\"data\"] = rr_data\n",
    "\n",
    "#Add it back onto the radar object\n",
    "csapr.add_field('radar_estimated_rain_rate', rain, replace_existing=True)\n"
   ]
  },
  {
   "cell_type": "code",
   "execution_count": null,
   "id": "de3b5ae0-d59f-46ea-971e-3bee82fa564e",
   "metadata": {},
   "outputs": [],
   "source": [
    "mydc = pyart.graph.RadarDisplay(csapr)\n",
    "mydc.plot_ppi('radar_estimated_rain_rate')\n",
    "\n"
   ]
  },
  {
   "cell_type": "code",
   "execution_count": null,
   "id": "a2d2797c-4812-4b81-a5cf-4a1950619762",
   "metadata": {},
   "outputs": [],
   "source": []
  }
 ],
 "metadata": {
  "kernelspec": {
   "display_name": "Python 3 (ipykernel)",
   "language": "python",
   "name": "python3"
  },
  "language_info": {
   "codemirror_mode": {
    "name": "ipython",
    "version": 3
   },
   "file_extension": ".py",
   "mimetype": "text/x-python",
   "name": "python",
   "nbconvert_exporter": "python",
   "pygments_lexer": "ipython3",
   "version": "3.11.12"
  }
 },
 "nbformat": 4,
 "nbformat_minor": 5
}
